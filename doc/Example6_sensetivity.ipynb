{
 "cells": [
  {
   "cell_type": "markdown",
   "id": "7a7f8345-386d-4edb-a3cf-28ed462b3e0f",
   "metadata": {},
   "source": [
    "# FAST HI观测规划助手`obshelper`示例6：灵敏度的计算\n",
    "\n",
    "by astroR2 2025/5/10\n",
    "\n",
    "* 示例6使用两种方法计算给定HI mass surface density对应的RMS。观测时间请使用[FAST官方的积分时间计算器](https://fast.bao.ac.cn/integrated_time_calculate)。\n",
    "\n",
    "* 注意：本程序与FAST官方无关，纯个人开发使用，请仔细检查输出结果，如有错误概不负责。请务必先详细阅读[FAST观测常见问题](https://fast.bao.ac.cn/cms/article/147/)与[用户帮助文档](https://fast.bao.ac.cn/cms/article/80/)。"
   ]
  },
  {
   "cell_type": "code",
   "execution_count": 1,
   "id": "babde82b-caf0-4ded-bd0b-d4d5f382b65a",
   "metadata": {},
   "outputs": [],
   "source": [
    "import numpy as np\n",
    "from matplotlib import pyplot as plt\n",
    "from astropy import units as u\n",
    "\n",
    "from obshelper.sensitivity import cal_rms1, cal_rms2"
   ]
  },
  {
   "cell_type": "markdown",
   "id": "93d204a1-ceb0-4b7b-a803-ddaab6285620",
   "metadata": {},
   "source": [
    "# Method1\n",
    "\n",
    "\\begin{align}\n",
    "    \\left(\\frac{M_{\\mathrm{H} \\mathrm{I}}}{h_{\\mathrm{C}}^{-2} \\mathrm{M}_{\\odot}}\\right) \n",
    "    \\simeq \\frac{2.35 \\times 10^5}{(1+z)^2}\\left(\\frac{D_L}{h_{\\mathrm{C}}^{-1} \\mathrm{Mpc}}\\right)^2\\left(\\frac{S^{V_{\\mathrm{obs}}}}{\\mathrm{Jy} \\mathrm{km} \\mathrm{s}^{-1}}\\right)\n",
    "\\end{align}\n",
    "\n",
    "低红移近似$D_A=D_L=D$ Mpc, 所以观测到的流量$S^{V_{\\mathrm{obs}}}=S$对应面积\n",
    "\n",
    "\\begin{equation}\n",
    "    Area = D_A^2\\Omega_{bm}= 1.13\\theta^2 D^2\n",
    "\\end{equation}\n",
    "其中$\\theta$是弧度单位的波束FWHM\n",
    "\n",
    "于是HI面密度$\\mathrm{M_{\\odot}~pc^{-2}}$\n",
    "\\begin{align}\n",
    "    \\Sigma_\\mathrm{HI} &= \\frac{M_\\mathrm{HI}}{Area} \\\\\n",
    "    &= \\frac{2.35 \\times 10^5 D^2 S}{1.13\\theta^2 D^2}\n",
    "\\end{align}\n",
    "\n",
    "流量$S$用rms乘上一段速度区间表示，并注意计算流量的区间所带来的根号N.$\\delta v$是速度分辨率\n",
    "\\begin{equation}\n",
    "    S = \\frac{\\sigma_\\mathrm{rms} \\ W}{\\sqrt{W/\\delta v}} = \\sigma_\\mathrm{rms} \\ \\sqrt{W\\delta v}\n",
    "\\end{equation}\n",
    "代入\n",
    "\\begin{align}\n",
    "    \\Sigma_\\mathrm{HI} &= \\frac{2.35 \\times 10^5 S}{1.13\\theta^2} \\\\\n",
    "    &= \\frac{2.35 \\times 10^5 \\sigma_\\mathrm{rms} \\ \\sqrt{W\\delta v}}{1.13\\theta^2}\n",
    "\\end{align}"
   ]
  },
  {
   "cell_type": "markdown",
   "id": "9a1ccfb6-9b74-4052-b14e-eb74ad45a0e5",
   "metadata": {},
   "source": [
    "例：\n",
    "\n",
    "3$\\sigma$时的$\\Sigma_\\mathrm{HI} = 1 \\mathrm{M_{\\odot}~pc^{-2}}$, $W=20 \\mathrm{km~s^{-1}}$(这里没考虑高斯带来的2.36), 空间分辨率$3'$，速度分辨率$1.6 \\mathrm{km~s^{-1}}$。求rms"
   ]
  },
  {
   "cell_type": "code",
   "execution_count": 2,
   "id": "950838fc-3e30-4ab9-9192-33e1d8367b9a",
   "metadata": {},
   "outputs": [
    {
     "name": "stdout",
     "output_type": "stream",
     "text": [
      "1.0 solMass / pc2 3.0 arcmin 20.0 km / s 1.6 km / s\n"
     ]
    },
    {
     "data": {
      "text/latex": [
       "$216.35182 \\; \\mathrm{mJy}$"
      ],
      "text/plain": [
       "<Quantity 216.35181733 mJy>"
      ]
     },
     "execution_count": 2,
     "metadata": {},
     "output_type": "execute_result"
    }
   ],
   "source": [
    "cal_rms1(Sigma_HI = 1 * u.M_sun * u.pc**(-2), \n",
    "         theta = 3 * u.arcmin, \n",
    "         W = 20 * u.km/u.s, \n",
    "         dv = 1.6 * u.km/u.s) / 3"
   ]
  },
  {
   "cell_type": "markdown",
   "id": "68aa7bef-a855-49c5-8b2d-16fcdbd78996",
   "metadata": {},
   "source": [
    "# Method2\n",
    "\n",
    "\\begin{align} \n",
    "    \\left(\\frac{N_{\\mathrm{HI}}}{\\mathrm{cm}^{-2}}\\right) &=1.10 \\times 10^{24}(1+z)^2\\left(\\frac{S^{V_{obs}}}{\\mathrm{Jy \\ km \\ s^{-1}}}\\right)\\left(\\frac{ab}{\\operatorname{arcsec}^2}\\right)^{-1}  \n",
    "\\end{align}\n",
    "\n",
    "HI面密度$\\mathrm{M_{\\odot}~pc^{-2}}$\n",
    "\n",
    "\\begin{align}\n",
    "    \\Sigma_\\mathrm{HI} &= \\frac{M_\\mathrm{HI}}{Area} = \\frac{\\mathcal{N}m_\\mathrm{H}}{Area} = N_\\mathrm{HI}\\ m_\\mathrm{H}\n",
    "\\end{align}\n",
    "\n",
    "\\begin{align}\n",
    "    \\Sigma_\\mathrm{HI} &= N_\\mathrm{HI}\\ m_\\mathrm{H} \\\\\n",
    "    &= 1.10 \\times 10^{24} S \\left(\\frac{ab}{\\operatorname{arcsec}^2}\\right)^{-1}  m_\\mathrm{H} \\\\\n",
    "    &= 1.10 \\times 10^{24} \\sigma_\\mathrm{rms} \\sqrt{W\\delta v}\\left(\\frac{ab}{\\operatorname{arcsec}^2}\\right)^{-1}  m_\\mathrm{H}\n",
    "\\end{align}"
   ]
  },
  {
   "cell_type": "code",
   "execution_count": 3,
   "id": "969bf2fb-bc7b-47ba-8460-41d83167aefc",
   "metadata": {},
   "outputs": [
    {
     "name": "stdout",
     "output_type": "stream",
     "text": [
      "1.0 solMass / pc2 3.0 arcmin 20.0 km / s 1.6 km / s\n",
      "Column density 1.2485531508237533e+20 1 / cm2\n"
     ]
    },
    {
     "data": {
      "text/latex": [
       "$216.7021 \\; \\mathrm{mJy}$"
      ],
      "text/plain": [
       "<Quantity 216.70209809 mJy>"
      ]
     },
     "execution_count": 3,
     "metadata": {},
     "output_type": "execute_result"
    }
   ],
   "source": [
    "cal_rms2(Sigma_HI = 1 * u.M_sun * u.pc**(-2), \n",
    "         theta = 3 * u.arcmin, \n",
    "         W = 20 * u.km/u.s, \n",
    "         dv = 1.6 * u.km/u.s) / 3"
   ]
  },
  {
   "cell_type": "code",
   "execution_count": null,
   "id": "2e6ceb7e-2664-4454-ae39-87949b8d7a65",
   "metadata": {},
   "outputs": [],
   "source": []
  }
 ],
 "metadata": {
  "kernelspec": {
   "display_name": "Python 3 Docker",
   "language": "python",
   "name": "python3docker"
  },
  "language_info": {
   "codemirror_mode": {
    "name": "ipython",
    "version": 3
   },
   "file_extension": ".py",
   "mimetype": "text/x-python",
   "name": "python",
   "nbconvert_exporter": "python",
   "pygments_lexer": "ipython3",
   "version": "3.9.4"
  }
 },
 "nbformat": 4,
 "nbformat_minor": 5
}
